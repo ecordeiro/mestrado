{
  "nbformat": 4,
  "nbformat_minor": 0,
  "metadata": {
    "colab": {
      "provenance": [],
      "authorship_tag": "ABX9TyO+rpfBSAzJ52cEI0UZDS2N",
      "include_colab_link": true
    },
    "kernelspec": {
      "name": "python3",
      "display_name": "Python 3"
    },
    "language_info": {
      "name": "python"
    }
  },
  "cells": [
    {
      "cell_type": "markdown",
      "metadata": {
        "id": "view-in-github",
        "colab_type": "text"
      },
      "source": [
        "<a href=\"https://colab.research.google.com/github/ecordeiro/mestrado/blob/main/Trabalho_Otimiza%C3%A7%C3%A3o_sob_incerteza.ipynb\" target=\"_parent\"><img src=\"https://colab.research.google.com/assets/colab-badge.svg\" alt=\"Open In Colab\"/></a>"
      ]
    },
    {
      "cell_type": "code",
      "metadata": {
        "id": "c4f3e76c",
        "colab": {
          "base_uri": "https://localhost:8080/"
        },
        "outputId": "0923b824-4046-4db9-a737-9f80ea1023fa"
      },
      "source": [
        "%pip install pulp"
      ],
      "execution_count": null,
      "outputs": [
        {
          "output_type": "stream",
          "name": "stdout",
          "text": [
            "Requirement already satisfied: pulp in /usr/local/lib/python3.11/dist-packages (3.2.1)\n"
          ]
        }
      ]
    },
    {
      "cell_type": "code",
      "source": [
        "import pulp\n",
        "import random"
      ],
      "metadata": {
        "id": "RqpJP8GRXb8T"
      },
      "execution_count": null,
      "outputs": []
    },
    {
      "cell_type": "code",
      "source": [
        "# Número de itens\n",
        "N = 4\n",
        "items = list(range(1, N * 2))"
      ],
      "metadata": {
        "id": "xJBJkCwpXeA_"
      },
      "execution_count": null,
      "outputs": []
    },
    {
      "cell_type": "code",
      "source": [
        "# tamanhos e incertezas aleatórios\n",
        "random.seed(21)\n",
        "sizes = {i: random.uniform(0.5, 8) for i in items}\n",
        "uncertainty = {i: random.randint(1, 3) for i in items}"
      ],
      "metadata": {
        "id": "Pn0PB9yyXjOF"
      },
      "execution_count": null,
      "outputs": []
    },
    {
      "cell_type": "code",
      "source": [
        "# Capacidade dos bins\n",
        "capacity = 12\n",
        "Gamma = 4\n",
        "bins = list(range(1, N + 3))"
      ],
      "metadata": {
        "id": "1dVuv_I2XvGh"
      },
      "execution_count": null,
      "outputs": []
    },
    {
      "cell_type": "code",
      "source": [
        "bins"
      ],
      "metadata": {
        "colab": {
          "base_uri": "https://localhost:8080/"
        },
        "id": "XV70x3AWwyxU",
        "outputId": "d3384be8-5ade-41be-d5cd-da60a164b5a6"
      },
      "execution_count": null,
      "outputs": [
        {
          "output_type": "execute_result",
          "data": {
            "text/plain": [
              "[1, 2, 3, 4, 5, 6]"
            ]
          },
          "metadata": {},
          "execution_count": 75
        }
      ]
    },
    {
      "cell_type": "code",
      "source": [
        "# Criação do problema\n",
        "prob = pulp.LpProblem(\"Bin_Packing_Robusto\", pulp.LpMinimize)"
      ],
      "metadata": {
        "id": "ff_FyqoZX0oJ"
      },
      "execution_count": null,
      "outputs": []
    },
    {
      "cell_type": "code",
      "source": [
        "prob"
      ],
      "metadata": {
        "colab": {
          "base_uri": "https://localhost:8080/"
        },
        "id": "mrDphzrJwFlb",
        "outputId": "cf174377-7720-4146-ed3e-83bdf4cdd278"
      },
      "execution_count": null,
      "outputs": [
        {
          "output_type": "execute_result",
          "data": {
            "text/plain": [
              "Bin_Packing_Robusto:\n",
              "MINIMIZE\n",
              "None\n",
              "VARIABLES"
            ]
          },
          "metadata": {},
          "execution_count": 77
        }
      ]
    },
    {
      "cell_type": "code",
      "source": [
        "# Variáveis\n",
        "x = pulp.LpVariable.dicts(\"x\", ((i, j) for i in items for j in bins), cat=\"Binary\")\n",
        "y = pulp.LpVariable.dicts(\"y\", bins, cat=\"Binary\")\n",
        "z = pulp.LpVariable.dicts(\"z\", bins, lowBound=0)\n",
        "rho = pulp.LpVariable.dicts(\"rho\", ((i, j) for i in items for j in bins), lowBound=0)"
      ],
      "metadata": {
        "id": "MSjyWnf1voDU"
      },
      "execution_count": null,
      "outputs": []
    },
    {
      "cell_type": "code",
      "source": [
        "# Função objetivo\n",
        "prob += pulp.lpSum([y[j] for j in bins])"
      ],
      "metadata": {
        "id": "m5qhRsd5vtDs"
      },
      "execution_count": null,
      "outputs": []
    },
    {
      "cell_type": "code",
      "source": [
        "prob"
      ],
      "metadata": {
        "colab": {
          "base_uri": "https://localhost:8080/"
        },
        "id": "yADcGSMpwBHa",
        "outputId": "dc46ad82-83d4-497a-90f9-49ce42a709b5"
      },
      "execution_count": null,
      "outputs": [
        {
          "output_type": "execute_result",
          "data": {
            "text/plain": [
              "Bin_Packing_Robusto:\n",
              "MINIMIZE\n",
              "1*y_1 + 1*y_2 + 1*y_3 + 1*y_4 + 1*y_5 + 1*y_6 + 0.0\n",
              "VARIABLES\n",
              "0 <= y_1 <= 1 Integer\n",
              "0 <= y_2 <= 1 Integer\n",
              "0 <= y_3 <= 1 Integer\n",
              "0 <= y_4 <= 1 Integer\n",
              "0 <= y_5 <= 1 Integer\n",
              "0 <= y_6 <= 1 Integer"
            ]
          },
          "metadata": {},
          "execution_count": 80
        }
      ]
    },
    {
      "cell_type": "code",
      "source": [
        "# Cada item em exatamente um bin\n",
        "for i in items:\n",
        "    prob += pulp.lpSum([x[i, j] for j in bins]) == 1"
      ],
      "metadata": {
        "id": "Wqndawe8vult"
      },
      "execution_count": null,
      "outputs": []
    },
    {
      "cell_type": "code",
      "source": [
        "prob"
      ],
      "metadata": {
        "colab": {
          "base_uri": "https://localhost:8080/"
        },
        "id": "NK10NLQ4wpuV",
        "outputId": "546e79ef-e634-4fdc-86cd-b173386c34e7"
      },
      "execution_count": null,
      "outputs": [
        {
          "output_type": "execute_result",
          "data": {
            "text/plain": [
              "Bin_Packing_Robusto:\n",
              "MINIMIZE\n",
              "1*y_1 + 1*y_2 + 1*y_3 + 1*y_4 + 1*y_5 + 1*y_6 + 0.0\n",
              "SUBJECT TO\n",
              "_C1: x_(1,_1) + x_(1,_2) + x_(1,_3) + x_(1,_4) + x_(1,_5) + x_(1,_6) = 1\n",
              "\n",
              "_C2: x_(2,_1) + x_(2,_2) + x_(2,_3) + x_(2,_4) + x_(2,_5) + x_(2,_6) = 1\n",
              "\n",
              "_C3: x_(3,_1) + x_(3,_2) + x_(3,_3) + x_(3,_4) + x_(3,_5) + x_(3,_6) = 1\n",
              "\n",
              "_C4: x_(4,_1) + x_(4,_2) + x_(4,_3) + x_(4,_4) + x_(4,_5) + x_(4,_6) = 1\n",
              "\n",
              "_C5: x_(5,_1) + x_(5,_2) + x_(5,_3) + x_(5,_4) + x_(5,_5) + x_(5,_6) = 1\n",
              "\n",
              "_C6: x_(6,_1) + x_(6,_2) + x_(6,_3) + x_(6,_4) + x_(6,_5) + x_(6,_6) = 1\n",
              "\n",
              "_C7: x_(7,_1) + x_(7,_2) + x_(7,_3) + x_(7,_4) + x_(7,_5) + x_(7,_6) = 1\n",
              "\n",
              "VARIABLES\n",
              "0 <= x_(1,_1) <= 1 Integer\n",
              "0 <= x_(1,_2) <= 1 Integer\n",
              "0 <= x_(1,_3) <= 1 Integer\n",
              "0 <= x_(1,_4) <= 1 Integer\n",
              "0 <= x_(1,_5) <= 1 Integer\n",
              "0 <= x_(1,_6) <= 1 Integer\n",
              "0 <= x_(2,_1) <= 1 Integer\n",
              "0 <= x_(2,_2) <= 1 Integer\n",
              "0 <= x_(2,_3) <= 1 Integer\n",
              "0 <= x_(2,_4) <= 1 Integer\n",
              "0 <= x_(2,_5) <= 1 Integer\n",
              "0 <= x_(2,_6) <= 1 Integer\n",
              "0 <= x_(3,_1) <= 1 Integer\n",
              "0 <= x_(3,_2) <= 1 Integer\n",
              "0 <= x_(3,_3) <= 1 Integer\n",
              "0 <= x_(3,_4) <= 1 Integer\n",
              "0 <= x_(3,_5) <= 1 Integer\n",
              "0 <= x_(3,_6) <= 1 Integer\n",
              "0 <= x_(4,_1) <= 1 Integer\n",
              "0 <= x_(4,_2) <= 1 Integer\n",
              "0 <= x_(4,_3) <= 1 Integer\n",
              "0 <= x_(4,_4) <= 1 Integer\n",
              "0 <= x_(4,_5) <= 1 Integer\n",
              "0 <= x_(4,_6) <= 1 Integer\n",
              "0 <= x_(5,_1) <= 1 Integer\n",
              "0 <= x_(5,_2) <= 1 Integer\n",
              "0 <= x_(5,_3) <= 1 Integer\n",
              "0 <= x_(5,_4) <= 1 Integer\n",
              "0 <= x_(5,_5) <= 1 Integer\n",
              "0 <= x_(5,_6) <= 1 Integer\n",
              "0 <= x_(6,_1) <= 1 Integer\n",
              "0 <= x_(6,_2) <= 1 Integer\n",
              "0 <= x_(6,_3) <= 1 Integer\n",
              "0 <= x_(6,_4) <= 1 Integer\n",
              "0 <= x_(6,_5) <= 1 Integer\n",
              "0 <= x_(6,_6) <= 1 Integer\n",
              "0 <= x_(7,_1) <= 1 Integer\n",
              "0 <= x_(7,_2) <= 1 Integer\n",
              "0 <= x_(7,_3) <= 1 Integer\n",
              "0 <= x_(7,_4) <= 1 Integer\n",
              "0 <= x_(7,_5) <= 1 Integer\n",
              "0 <= x_(7,_6) <= 1 Integer\n",
              "0 <= y_1 <= 1 Integer\n",
              "0 <= y_2 <= 1 Integer\n",
              "0 <= y_3 <= 1 Integer\n",
              "0 <= y_4 <= 1 Integer\n",
              "0 <= y_5 <= 1 Integer\n",
              "0 <= y_6 <= 1 Integer"
            ]
          },
          "metadata": {},
          "execution_count": 82
        }
      ]
    },
    {
      "cell_type": "code",
      "execution_count": null,
      "metadata": {
        "id": "KWyYHZNiVvYN"
      },
      "outputs": [],
      "source": [
        "# Restrições robustas\n",
        "for j in bins:\n",
        "    prob += (\n",
        "        pulp.lpSum([sizes[i] * x[i, j] for i in items]) +\n",
        "        Gamma * z[j] +\n",
        "        pulp.lpSum([rho[i, j] for i in items])\n",
        "        <= capacity * y[j]\n",
        "    )\n",
        "    for i in items:\n",
        "        prob += z[j] + rho[i, j] >= uncertainty[i] * x[i, j]"
      ]
    },
    {
      "cell_type": "code",
      "source": [
        "prob"
      ],
      "metadata": {
        "colab": {
          "base_uri": "https://localhost:8080/"
        },
        "id": "GOmyCGoI3U75",
        "outputId": "b8c8990f-698b-4a20-ad6e-e6877af1b62e"
      },
      "execution_count": null,
      "outputs": [
        {
          "output_type": "execute_result",
          "data": {
            "text/plain": [
              "Bin_Packing_Robusto:\n",
              "MINIMIZE\n",
              "1*y_1 + 1*y_2 + 1*y_3 + 1*y_4 + 1*y_5 + 1*y_6 + 0.0\n",
              "SUBJECT TO\n",
              "_C1: x_(1,_1) + x_(1,_2) + x_(1,_3) + x_(1,_4) + x_(1,_5) + x_(1,_6) = 1\n",
              "\n",
              "_C2: x_(2,_1) + x_(2,_2) + x_(2,_3) + x_(2,_4) + x_(2,_5) + x_(2,_6) = 1\n",
              "\n",
              "_C3: x_(3,_1) + x_(3,_2) + x_(3,_3) + x_(3,_4) + x_(3,_5) + x_(3,_6) = 1\n",
              "\n",
              "_C4: x_(4,_1) + x_(4,_2) + x_(4,_3) + x_(4,_4) + x_(4,_5) + x_(4,_6) = 1\n",
              "\n",
              "_C5: x_(5,_1) + x_(5,_2) + x_(5,_3) + x_(5,_4) + x_(5,_5) + x_(5,_6) = 1\n",
              "\n",
              "_C6: x_(6,_1) + x_(6,_2) + x_(6,_3) + x_(6,_4) + x_(6,_5) + x_(6,_6) = 1\n",
              "\n",
              "_C7: x_(7,_1) + x_(7,_2) + x_(7,_3) + x_(7,_4) + x_(7,_5) + x_(7,_6) = 1\n",
              "\n",
              "_C8: rho_(1,_1) + rho_(2,_1) + rho_(3,_1) + rho_(4,_1) + rho_(5,_1)\n",
              " + rho_(6,_1) + rho_(7,_1) + 1.73712109875 x_(1,_1) + 5.67325193163 x_(2,_1)\n",
              " + 5.26249955304 x_(3,_1) + 4.09325354043 x_(4,_1) + 2.1201076092 x_(5,_1)\n",
              " + 6.4447501865 x_(6,_1) + 6.55890726465 x_(7,_1) - 12 y_1 + 4 z_1 <= 0\n",
              "\n",
              "_C9: rho_(1,_1) - 3 x_(1,_1) + z_1 >= 0\n",
              "\n",
              "_C10: rho_(2,_1) - x_(2,_1) + z_1 >= 0\n",
              "\n",
              "_C11: rho_(3,_1) - 3 x_(3,_1) + z_1 >= 0\n",
              "\n",
              "_C12: rho_(4,_1) - 3 x_(4,_1) + z_1 >= 0\n",
              "\n",
              "_C13: rho_(5,_1) - x_(5,_1) + z_1 >= 0\n",
              "\n",
              "_C14: rho_(6,_1) - x_(6,_1) + z_1 >= 0\n",
              "\n",
              "_C15: rho_(7,_1) - x_(7,_1) + z_1 >= 0\n",
              "\n",
              "_C16: rho_(1,_2) + rho_(2,_2) + rho_(3,_2) + rho_(4,_2) + rho_(5,_2)\n",
              " + rho_(6,_2) + rho_(7,_2) + 1.73712109875 x_(1,_2) + 5.67325193163 x_(2,_2)\n",
              " + 5.26249955304 x_(3,_2) + 4.09325354043 x_(4,_2) + 2.1201076092 x_(5,_2)\n",
              " + 6.4447501865 x_(6,_2) + 6.55890726465 x_(7,_2) - 12 y_2 + 4 z_2 <= 0\n",
              "\n",
              "_C17: rho_(1,_2) - 3 x_(1,_2) + z_2 >= 0\n",
              "\n",
              "_C18: rho_(2,_2) - x_(2,_2) + z_2 >= 0\n",
              "\n",
              "_C19: rho_(3,_2) - 3 x_(3,_2) + z_2 >= 0\n",
              "\n",
              "_C20: rho_(4,_2) - 3 x_(4,_2) + z_2 >= 0\n",
              "\n",
              "_C21: rho_(5,_2) - x_(5,_2) + z_2 >= 0\n",
              "\n",
              "_C22: rho_(6,_2) - x_(6,_2) + z_2 >= 0\n",
              "\n",
              "_C23: rho_(7,_2) - x_(7,_2) + z_2 >= 0\n",
              "\n",
              "_C24: rho_(1,_3) + rho_(2,_3) + rho_(3,_3) + rho_(4,_3) + rho_(5,_3)\n",
              " + rho_(6,_3) + rho_(7,_3) + 1.73712109875 x_(1,_3) + 5.67325193163 x_(2,_3)\n",
              " + 5.26249955304 x_(3,_3) + 4.09325354043 x_(4,_3) + 2.1201076092 x_(5,_3)\n",
              " + 6.4447501865 x_(6,_3) + 6.55890726465 x_(7,_3) - 12 y_3 + 4 z_3 <= 0\n",
              "\n",
              "_C25: rho_(1,_3) - 3 x_(1,_3) + z_3 >= 0\n",
              "\n",
              "_C26: rho_(2,_3) - x_(2,_3) + z_3 >= 0\n",
              "\n",
              "_C27: rho_(3,_3) - 3 x_(3,_3) + z_3 >= 0\n",
              "\n",
              "_C28: rho_(4,_3) - 3 x_(4,_3) + z_3 >= 0\n",
              "\n",
              "_C29: rho_(5,_3) - x_(5,_3) + z_3 >= 0\n",
              "\n",
              "_C30: rho_(6,_3) - x_(6,_3) + z_3 >= 0\n",
              "\n",
              "_C31: rho_(7,_3) - x_(7,_3) + z_3 >= 0\n",
              "\n",
              "_C32: rho_(1,_4) + rho_(2,_4) + rho_(3,_4) + rho_(4,_4) + rho_(5,_4)\n",
              " + rho_(6,_4) + rho_(7,_4) + 1.73712109875 x_(1,_4) + 5.67325193163 x_(2,_4)\n",
              " + 5.26249955304 x_(3,_4) + 4.09325354043 x_(4,_4) + 2.1201076092 x_(5,_4)\n",
              " + 6.4447501865 x_(6,_4) + 6.55890726465 x_(7,_4) - 12 y_4 + 4 z_4 <= 0\n",
              "\n",
              "_C33: rho_(1,_4) - 3 x_(1,_4) + z_4 >= 0\n",
              "\n",
              "_C34: rho_(2,_4) - x_(2,_4) + z_4 >= 0\n",
              "\n",
              "_C35: rho_(3,_4) - 3 x_(3,_4) + z_4 >= 0\n",
              "\n",
              "_C36: rho_(4,_4) - 3 x_(4,_4) + z_4 >= 0\n",
              "\n",
              "_C37: rho_(5,_4) - x_(5,_4) + z_4 >= 0\n",
              "\n",
              "_C38: rho_(6,_4) - x_(6,_4) + z_4 >= 0\n",
              "\n",
              "_C39: rho_(7,_4) - x_(7,_4) + z_4 >= 0\n",
              "\n",
              "_C40: rho_(1,_5) + rho_(2,_5) + rho_(3,_5) + rho_(4,_5) + rho_(5,_5)\n",
              " + rho_(6,_5) + rho_(7,_5) + 1.73712109875 x_(1,_5) + 5.67325193163 x_(2,_5)\n",
              " + 5.26249955304 x_(3,_5) + 4.09325354043 x_(4,_5) + 2.1201076092 x_(5,_5)\n",
              " + 6.4447501865 x_(6,_5) + 6.55890726465 x_(7,_5) - 12 y_5 + 4 z_5 <= 0\n",
              "\n",
              "_C41: rho_(1,_5) - 3 x_(1,_5) + z_5 >= 0\n",
              "\n",
              "_C42: rho_(2,_5) - x_(2,_5) + z_5 >= 0\n",
              "\n",
              "_C43: rho_(3,_5) - 3 x_(3,_5) + z_5 >= 0\n",
              "\n",
              "_C44: rho_(4,_5) - 3 x_(4,_5) + z_5 >= 0\n",
              "\n",
              "_C45: rho_(5,_5) - x_(5,_5) + z_5 >= 0\n",
              "\n",
              "_C46: rho_(6,_5) - x_(6,_5) + z_5 >= 0\n",
              "\n",
              "_C47: rho_(7,_5) - x_(7,_5) + z_5 >= 0\n",
              "\n",
              "_C48: rho_(1,_6) + rho_(2,_6) + rho_(3,_6) + rho_(4,_6) + rho_(5,_6)\n",
              " + rho_(6,_6) + rho_(7,_6) + 1.73712109875 x_(1,_6) + 5.67325193163 x_(2,_6)\n",
              " + 5.26249955304 x_(3,_6) + 4.09325354043 x_(4,_6) + 2.1201076092 x_(5,_6)\n",
              " + 6.4447501865 x_(6,_6) + 6.55890726465 x_(7,_6) - 12 y_6 + 4 z_6 <= 0\n",
              "\n",
              "_C49: rho_(1,_6) - 3 x_(1,_6) + z_6 >= 0\n",
              "\n",
              "_C50: rho_(2,_6) - x_(2,_6) + z_6 >= 0\n",
              "\n",
              "_C51: rho_(3,_6) - 3 x_(3,_6) + z_6 >= 0\n",
              "\n",
              "_C52: rho_(4,_6) - 3 x_(4,_6) + z_6 >= 0\n",
              "\n",
              "_C53: rho_(5,_6) - x_(5,_6) + z_6 >= 0\n",
              "\n",
              "_C54: rho_(6,_6) - x_(6,_6) + z_6 >= 0\n",
              "\n",
              "_C55: rho_(7,_6) - x_(7,_6) + z_6 >= 0\n",
              "\n",
              "VARIABLES\n",
              "rho_(1,_1) Continuous\n",
              "rho_(1,_2) Continuous\n",
              "rho_(1,_3) Continuous\n",
              "rho_(1,_4) Continuous\n",
              "rho_(1,_5) Continuous\n",
              "rho_(1,_6) Continuous\n",
              "rho_(2,_1) Continuous\n",
              "rho_(2,_2) Continuous\n",
              "rho_(2,_3) Continuous\n",
              "rho_(2,_4) Continuous\n",
              "rho_(2,_5) Continuous\n",
              "rho_(2,_6) Continuous\n",
              "rho_(3,_1) Continuous\n",
              "rho_(3,_2) Continuous\n",
              "rho_(3,_3) Continuous\n",
              "rho_(3,_4) Continuous\n",
              "rho_(3,_5) Continuous\n",
              "rho_(3,_6) Continuous\n",
              "rho_(4,_1) Continuous\n",
              "rho_(4,_2) Continuous\n",
              "rho_(4,_3) Continuous\n",
              "rho_(4,_4) Continuous\n",
              "rho_(4,_5) Continuous\n",
              "rho_(4,_6) Continuous\n",
              "rho_(5,_1) Continuous\n",
              "rho_(5,_2) Continuous\n",
              "rho_(5,_3) Continuous\n",
              "rho_(5,_4) Continuous\n",
              "rho_(5,_5) Continuous\n",
              "rho_(5,_6) Continuous\n",
              "rho_(6,_1) Continuous\n",
              "rho_(6,_2) Continuous\n",
              "rho_(6,_3) Continuous\n",
              "rho_(6,_4) Continuous\n",
              "rho_(6,_5) Continuous\n",
              "rho_(6,_6) Continuous\n",
              "rho_(7,_1) Continuous\n",
              "rho_(7,_2) Continuous\n",
              "rho_(7,_3) Continuous\n",
              "rho_(7,_4) Continuous\n",
              "rho_(7,_5) Continuous\n",
              "rho_(7,_6) Continuous\n",
              "0 <= x_(1,_1) <= 1 Integer\n",
              "0 <= x_(1,_2) <= 1 Integer\n",
              "0 <= x_(1,_3) <= 1 Integer\n",
              "0 <= x_(1,_4) <= 1 Integer\n",
              "0 <= x_(1,_5) <= 1 Integer\n",
              "0 <= x_(1,_6) <= 1 Integer\n",
              "0 <= x_(2,_1) <= 1 Integer\n",
              "0 <= x_(2,_2) <= 1 Integer\n",
              "0 <= x_(2,_3) <= 1 Integer\n",
              "0 <= x_(2,_4) <= 1 Integer\n",
              "0 <= x_(2,_5) <= 1 Integer\n",
              "0 <= x_(2,_6) <= 1 Integer\n",
              "0 <= x_(3,_1) <= 1 Integer\n",
              "0 <= x_(3,_2) <= 1 Integer\n",
              "0 <= x_(3,_3) <= 1 Integer\n",
              "0 <= x_(3,_4) <= 1 Integer\n",
              "0 <= x_(3,_5) <= 1 Integer\n",
              "0 <= x_(3,_6) <= 1 Integer\n",
              "0 <= x_(4,_1) <= 1 Integer\n",
              "0 <= x_(4,_2) <= 1 Integer\n",
              "0 <= x_(4,_3) <= 1 Integer\n",
              "0 <= x_(4,_4) <= 1 Integer\n",
              "0 <= x_(4,_5) <= 1 Integer\n",
              "0 <= x_(4,_6) <= 1 Integer\n",
              "0 <= x_(5,_1) <= 1 Integer\n",
              "0 <= x_(5,_2) <= 1 Integer\n",
              "0 <= x_(5,_3) <= 1 Integer\n",
              "0 <= x_(5,_4) <= 1 Integer\n",
              "0 <= x_(5,_5) <= 1 Integer\n",
              "0 <= x_(5,_6) <= 1 Integer\n",
              "0 <= x_(6,_1) <= 1 Integer\n",
              "0 <= x_(6,_2) <= 1 Integer\n",
              "0 <= x_(6,_3) <= 1 Integer\n",
              "0 <= x_(6,_4) <= 1 Integer\n",
              "0 <= x_(6,_5) <= 1 Integer\n",
              "0 <= x_(6,_6) <= 1 Integer\n",
              "0 <= x_(7,_1) <= 1 Integer\n",
              "0 <= x_(7,_2) <= 1 Integer\n",
              "0 <= x_(7,_3) <= 1 Integer\n",
              "0 <= x_(7,_4) <= 1 Integer\n",
              "0 <= x_(7,_5) <= 1 Integer\n",
              "0 <= x_(7,_6) <= 1 Integer\n",
              "0 <= y_1 <= 1 Integer\n",
              "0 <= y_2 <= 1 Integer\n",
              "0 <= y_3 <= 1 Integer\n",
              "0 <= y_4 <= 1 Integer\n",
              "0 <= y_5 <= 1 Integer\n",
              "0 <= y_6 <= 1 Integer\n",
              "z_1 Continuous\n",
              "z_2 Continuous\n",
              "z_3 Continuous\n",
              "z_4 Continuous\n",
              "z_5 Continuous\n",
              "z_6 Continuous"
            ]
          },
          "metadata": {},
          "execution_count": 84
        }
      ]
    },
    {
      "cell_type": "code",
      "source": [
        "# Resolver\n",
        "prob.solve()"
      ],
      "metadata": {
        "id": "vywSRm043Ssi",
        "colab": {
          "base_uri": "https://localhost:8080/"
        },
        "outputId": "66f700d6-ca17-418b-9ed5-08ac1e14140c"
      },
      "execution_count": null,
      "outputs": [
        {
          "output_type": "execute_result",
          "data": {
            "text/plain": [
              "1"
            ]
          },
          "metadata": {},
          "execution_count": 85
        }
      ]
    },
    {
      "cell_type": "code",
      "source": [
        "# Mostrar resultados\n",
        "print(f\"Status: {pulp.LpStatus[prob.status]}\")\n",
        "print(f\"Número mínimo de bins: {int(pulp.value(prob.objective))}\\n\")\n",
        "\n",
        "for j in bins:\n",
        "    if y[j].varValue > 0.5:\n",
        "        itens_no_bin = [i for i in items if x[i, j].varValue > 0.5]\n",
        "        print(f\"Bin {j} contém os itens: {itens_no_bin}\")\n",
        "\n",
        "# Mostrar tamanhos e incertezas para referência\n",
        "print(\"\\nTamanhos dos itens:\", sizes)\n",
        "print(\"Incertezas dos itens:\", uncertainty)"
      ],
      "metadata": {
        "id": "69uBvc7m0HFS",
        "colab": {
          "base_uri": "https://localhost:8080/"
        },
        "outputId": "f0391382-ebf1-43f1-ed65-d736c8578a18"
      },
      "execution_count": null,
      "outputs": [
        {
          "output_type": "stream",
          "name": "stdout",
          "text": [
            "Status: Optimal\n",
            "Número mínimo de bins: 5\n",
            "\n",
            "Bin 2 contém os itens: [4, 5]\n",
            "Bin 3 contém os itens: [7]\n",
            "Bin 4 contém os itens: [1, 2]\n",
            "Bin 5 contém os itens: [3]\n",
            "Bin 6 contém os itens: [6]\n",
            "\n",
            "Tamanhos dos itens: {1: 1.7371210987489847, 2: 5.673251931631755, 3: 5.262499553035405, 4: 4.093253540430884, 5: 2.120107609204271, 6: 6.444750186501848, 7: 6.558907264650707}\n",
            "Incertezas dos itens: {1: 3, 2: 1, 3: 3, 4: 3, 5: 1, 6: 1, 7: 1}\n"
          ]
        }
      ]
    }
  ]
}